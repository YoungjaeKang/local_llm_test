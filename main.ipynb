{
 "cells": [
  {
   "cell_type": "markdown",
   "id": "210afb79",
   "metadata": {},
   "source": [
    "## Load Libraries"
   ]
  },
  {
   "cell_type": "code",
   "execution_count": 20,
   "id": "16266264",
   "metadata": {},
   "outputs": [],
   "source": [
    "from pptx import Presentation\n",
    "from pptx.enum.shapes import MSO_SHAPE_TYPE\n",
    "from PIL import Image\n",
    "import io\n",
    "import os"
   ]
  },
  {
   "cell_type": "markdown",
   "id": "ca126f00",
   "metadata": {},
   "source": [
    "## 1. PPT에서 텍스트/표/이미지 분리 추출"
   ]
  },
  {
   "cell_type": "code",
   "execution_count": 21,
   "id": "42a01adc",
   "metadata": {},
   "outputs": [],
   "source": [
    "def extract_pptx_elements(pptx_path, output_dir='img_output'):\n",
    "    prs = Presentation(pptx_path)\n",
    "    os.makedirs(output_dir, exist_ok=True)\n",
    "\n",
    "    slides_data = []\n",
    "\n",
    "    for i, slide in enumerate(prs.slides):\n",
    "        slide_info = {\n",
    "            'slide_num': i + 1,\n",
    "            'texts': [],\n",
    "            'tables': [],\n",
    "            'images': []\n",
    "        }\n",
    "\n",
    "        for shape in slide.shapes:\n",
    "            if shape.shape_type == MSO_SHAPE_TYPE.TEXT_BOX or shape.has_text_frame:\n",
    "                text = shape.text.strip()\n",
    "                if text:\n",
    "                    slide_info['texts'].append(text)\n",
    "\n",
    "            elif shape.shape_type == MSO_SHAPE_TYPE.TABLE:\n",
    "                table_data = []\n",
    "                for row in shape.table.rows:\n",
    "                    row_data = [cell.text.strip() for cell in row.cells]\n",
    "                    table_data.append(row_data)\n",
    "                slide_info['tables'].append(table_data)\n",
    "\n",
    "            elif shape.shape_type == MSO_SHAPE_TYPE.PICTURE:\n",
    "                image = shape.image\n",
    "                image_bytes = image.blob\n",
    "                image_filename = f\"slide_{i+1}_img_{len(slide_info['images']) + 1}.{image.ext}\"\n",
    "                with open(os.path.join(output_dir, image_filename), 'wb') as f:\n",
    "                    f.write(image_bytes)\n",
    "                slide_info['images'].append(image_filename)\n",
    "\n",
    "        slides_data.append(slide_info)\n",
    "\n",
    "    return slides_data"
   ]
  },
  {
   "cell_type": "code",
   "execution_count": 22,
   "id": "3dca33af",
   "metadata": {},
   "outputs": [],
   "source": [
    "pptx_path = 'data/sample_data.pptx'\n",
    "slides_data = extract_pptx_elements(pptx_path)"
   ]
  },
  {
   "cell_type": "markdown",
   "id": "a8509298",
   "metadata": {},
   "source": [
    "## 2. 슬라이드 단위로 요약 입력 정제"
   ]
  },
  {
   "cell_type": "code",
   "execution_count": 23,
   "id": "a71eadc4",
   "metadata": {},
   "outputs": [],
   "source": [
    "def generate_slide_summaries(slides_data, output_dir='img_output'):\n",
    "    summaries = []\n",
    "\n",
    "    for slide in slides_data:\n",
    "        summary_parts = []\n",
    "        slide_num = slide['slide_num']\n",
    "        summary_parts.append(f\"[Slide {slide_num}]\")\n",
    "\n",
    "        # 1. 텍스트 요약\n",
    "        if slide['texts']:\n",
    "            summary_parts.append(\"텍스트 요약:\")\n",
    "            summary_parts.extend(slide['texts'])\n",
    "\n",
    "        # 2. 표 요약\n",
    "        for table in slide['tables']:\n",
    "            if table:\n",
    "                header = table[0]\n",
    "                rows = table[1:]\n",
    "                table_summary = \"표 내용 요약: \"\n",
    "                table_summary += \", \".join([f\"{row[0]}: {row[1]}\" for row in rows if len(row) >= 2])\n",
    "                summary_parts.append(table_summary)\n",
    "\n",
    "        # 3. 이미지 언급\n",
    "        if slide['images']:\n",
    "            img_files = [f\"{output_dir}/{img}\" for img in slide['images']]\n",
    "            summary_parts.append(f\"이미지 파일 포함: {', '.join(img_files)}\")\n",
    "\n",
    "        # Join all parts\n",
    "        slide_summary = \"\\n\".join(summary_parts)\n",
    "        summaries.append(slide_summary)\n",
    "\n",
    "    return summaries"
   ]
  },
  {
   "cell_type": "code",
   "execution_count": 24,
   "id": "f410e62e",
   "metadata": {},
   "outputs": [],
   "source": [
    "summaries = generate_slide_summaries(slides_data)"
   ]
  },
  {
   "cell_type": "markdown",
   "id": "2df8d0c9",
   "metadata": {},
   "source": [
    "## 3. 로컬 LLM 기반 질의응답 RAG"
   ]
  },
  {
   "cell_type": "markdown",
   "id": "a0367fc7",
   "metadata": {},
   "source": [
    "1. PPT 슬라이드 요약 텍스트\n",
    "2. OllamaEmbeddings (llama3 기반)\n",
    "3. FAISS 벡터 DB\n",
    "4. Ollama 로컬 LLM (llama3:8b)\n",
    "5. 사용자 질문 → 답변 생성"
   ]
  },
  {
   "cell_type": "code",
   "execution_count": 25,
   "id": "43ae482e",
   "metadata": {},
   "outputs": [],
   "source": [
    "# ollama run llama3"
   ]
  },
  {
   "cell_type": "markdown",
   "id": "ff27b0be",
   "metadata": {},
   "source": [
    "#### Langchain에서 Ollama 모델 활용"
   ]
  },
  {
   "cell_type": "code",
   "execution_count": 26,
   "id": "e98233dd",
   "metadata": {},
   "outputs": [],
   "source": [
    "# from langchain_ollama import OllamaLLM\n",
    "# llm = OllamaLLM(model=\"llama3:8b\")"
   ]
  },
  {
   "cell_type": "markdown",
   "id": "3020424d",
   "metadata": {},
   "source": [
    "### 1) 임베딩 + 벡터 저장 (로컬 LLM 기반)"
   ]
  },
  {
   "cell_type": "code",
   "execution_count": 27,
   "id": "c58ea849",
   "metadata": {},
   "outputs": [],
   "source": [
    "from langchain_ollama import OllamaEmbeddings\n",
    "from langchain.vectorstores import FAISS\n",
    "from langchain_core.documents import Document"
   ]
  },
  {
   "cell_type": "markdown",
   "id": "c7c413bb",
   "metadata": {},
   "source": [
    "#### 임베딩 생성"
   ]
  },
  {
   "cell_type": "code",
   "execution_count": 28,
   "id": "56d6aa65",
   "metadata": {},
   "outputs": [],
   "source": [
    "embedding_model = OllamaEmbeddings(model=\"exaone3.5:7.8b\")"
   ]
  },
  {
   "cell_type": "markdown",
   "id": "0e92f4e1",
   "metadata": {},
   "source": [
    "#### 슬라이드 요약 내용을 문서화"
   ]
  },
  {
   "cell_type": "code",
   "execution_count": 29,
   "id": "22ce6f65",
   "metadata": {},
   "outputs": [],
   "source": [
    "docs = [Document(page_content=summary) for summary in summaries]"
   ]
  },
  {
   "cell_type": "code",
   "execution_count": 30,
   "id": "057c5af3",
   "metadata": {},
   "outputs": [
    {
     "data": {
      "text/plain": [
       "[Document(metadata={}, page_content='[Slide 1]\\n텍스트 요약:\\nPC방 창업 사업계획서\\nIT/인터넷 관련 사업계획서\\n경영기획팀\\n2025. 04. 05\\n이미지 파일 포함: img_output/slide_1_img_1.png'),\n",
       " Document(metadata={}, page_content='[Slide 2]\\n텍스트 요약:\\nCONTENTS'),\n",
       " Document(metadata={}, page_content='[Slide 3]\\n텍스트 요약:\\n1. 회사현황\\n1) 회사개요\\n회사의 현황에 따른 개요는 아래와 같음\\n세부 사항은 아래에 상세히 설명되어 있음\\n표 내용 요약: 대표자명: 김효섭, 자택전화번호: 02) 123-4567, 사업장소재지: 서울시 성동구 아차산로 49 서울숲 코오롱 디지털타워, 업 태: 서비스, 창업(예정)일자: 20 . ., 특기사항: \\n이미지 파일 포함: img_output/slide_3_img_1.jpg'),\n",
       " Document(metadata={}, page_content='[Slide 4]\\n텍스트 요약:\\n1. 회사현황\\n2) 창업자의 인적사항\\n창업자 인적사항은 아래와 같음\\n세부 사항은 아래에 상세히 설명되어 있음\\n표 내용 요약: 주 소: 서울시 광진구 자양동, 학 력: 기 간, : ～, : ～, : ~, 경 력: 근무기간, : ～, : ～'),\n",
       " Document(metadata={}, page_content='[Slide 5]\\n텍스트 요약:\\n2. 사업계획\\n1) 사업의 등기 및 개요\\n가) 사업의 동기\\n본인은 재직 중이던 회사의 부도로 인하여 20  년   월 회사를 사직하였다.\\n회사를 사직하고 취업을 하려해도 나이 때문에 여의치 않아 생계유지 차원에서 인터넷멀티게임장(PC방) 창업을 계획하게 되었다. \\n본 사업을 아이템으로 정한 동기는 현재 하고 있는 친구의 권유로 관심을 가지고 조사하여 본 결과 본인의 적성, 수행능력, 자금력, 투자수익 등이 적정하다고 판단되어 결심을 하게 되었다.\\n\\n나) 사업의 개요\\n멀티게임장(인터넷게임방)이란 인터넷을 통해 여러 사람이 동시에 게임을 즐기거나 게임 CD-ROM을 이용해 게임을 하는 것으로 고속 인터넷 전용회선을 네트웍게임과 CD 게임 정보검색 문서작성 등 다양한 서비스를 시간당 ○,○○○ ～ ○,○○○원 이하의 비용으로 이용케 하는 사업이다.\\n사업의 동기는 아래와 같음\\n세부 사항은 아래에 상세히 설명되어 있음\\n이미지 파일 포함: img_output/slide_5_img_1.jpg'),\n",
       " Document(metadata={}, page_content='[Slide 6]\\n텍스트 요약:\\n2. 사업계획\\n2) 판매계획\\n판매 계획은 아래와 같음\\n세부 사항은 아래에 상세히 설명되어 있음\\n표 내용 요약: PC 이용료: 120,000,000, OA 이용료: 2,200,000, 음료수판매: 6,400,000, 컵라면판매: 3,600,000, 자판기수입: 4,300,000, 합 계: 136,500,000'),\n",
       " Document(metadata={}, page_content='[Slide 7]\\n텍스트 요약:\\n2. 사업계획\\n3) 상품구매계획(비용)\\n상품구매계획은 아래와 같음\\n세부 사항은 아래에 상세히 설명되어 있음\\n표 내용 요약: 음 료 수: 3,800,000, 컴 라 면: 2,200,000, 자 판 기: 1,200,000, 용지/카트리지: 500,000, 게임타이틀: 4,000,000, 합 계: 11,700,000'),\n",
       " Document(metadata={}, page_content='[Slide 8]\\n텍스트 요약:\\n2. 사업계획\\n4) 소요자금 및 조달계획\\n(가) 소요자금\\n소요자금은 아래와 같음\\n세부 사항은 아래에 상세히 설명되어 있음\\n표 내용 요약: ( 시 설 자 금): , 1. 건 물: 임차보증금, 2. 집기비품: 컴퓨터 외, 3. 창 업 비: 개업비, : , 소 계: , (운 전 자 금): , 1. 급 료: , 2. 판매관리비: , 소 계: , 합 계: '),\n",
       " Document(metadata={}, page_content='[Slide 9]\\n텍스트 요약:\\n2. 사업계획\\n4) 소요자금 및 조달계획\\n(나) 집기비품명세서\\n집기비품명세서는 아래와 같음\\n세부 사항은 아래에 상세히 설명되어 있음\\n표 내용 요약: 인테리어비: 30평, 컴 퓨 터: 30대, 간 판: 1식, 책 상: 30개, 의 자: 30개, 에 어 콘: 1식, 온 풍 기: 1식, 냉온수기: 1식, 랜 공 사: , 허 브: , 프 린 터: 1대, 스 캐 너: 1대, 소프트웨어: , 소 계: '),\n",
       " Document(metadata={}, page_content='[Slide 10]\\n텍스트 요약:\\n2. 사업계획\\n4) 소요자금 및 조달계획\\n(다) 자금조달계획\\n자금조달계획은 아래와 같음\\n세부 사항은 아래에 상세히 설명되어 있음\\n표 내용 요약: 자\\n본\\n금: 자기자금, : , 소 계: , 조\\n달: 지원자금, : , : 소 계, 합 계: '),\n",
       " Document(metadata={}, page_content='[Slide 11]\\n텍스트 요약:\\n3. 고정비 계획\\n고정비 계획은 아래와 같음\\n세부 사항은 아래에 상세히 설명되어 있음\\n표 내용 요약: 급 료: 16,800,000, 임 대 료: 12,000,000, 통 신 비: 10,800,000, 수도광열비: 6,000,000, 지급이자: 3,200,000, 복리후생비: 3,600,000, 감가상각비: 23,600,000, : , : , : , 합 계: 136,400,000'),\n",
       " Document(metadata={}, page_content='[Slide 12]\\n텍스트 요약:\\n4. 입지 및 상권분석\\n가. 입지현황\\n주 소 : 서울 대한구 대한동 289번지 민부빌딩 2층\\n소 유 자 : 민주물산 주식회사\\n면 적 : 100평방미터\\n소 유 : 임차\\n보 증 금 : 25,000,000(월세 1,000,000원)\\n① 유동인구 분석(시간당 10분 파악한 수 × 6 = 1시간당 유동인구)                                                         (단위 : 명)\\n나. 사업장 상권분석\\n입지현황 및 상권분석은 아래와 같음\\n세부 사항은 아래에 상세히 설명되어 있음\\n표 내용 요약: : 남/여, : 평일, 10대: 150/120, 20대: 60/120, 30대: 80/100, 40대: 80/110, 50대: 60/60, 합 계: 430/410'),\n",
       " Document(metadata={}, page_content='[Slide 13]\\n텍스트 요약:\\n4. 입지 및 상권분석\\n(단위 : 명)\\n나. 사업장 상권분석\\n유동인구 분석은 아래와 같음\\n세부 사항은 아래에 상세히 설명되어 있음'),\n",
       " Document(metadata={}, page_content='[Slide 14]\\n텍스트 요약:\\n5. 사업추진 일정\\n사업 추진 일정은 아래와 같음\\n세부 사항은 아래에 상세히 설명되어 있음'),\n",
       " Document(metadata={}, page_content='[Slide 15]\\n텍스트 요약:\\n6. 추정손익계산서\\n추정 손익계산서는 아래와 같음\\n세부 사항은 아래에 상세히 설명되어 있음\\n표 내용 요약: Ⅰ.매출액: , Ⅱ.매출원가: , Ⅲ.매출이익: , Ⅳ.일반관리비: , 1. 급 료: 16,800,000, 2. 임 대 료: 12,000,000, 3. 통 신 비: 10,800,000, 4. 수도광열비: 6,000,000, 5. 복리후생비: 3,600,000, 6. 감가상각비: 23,600,000, Ⅴ.영업이익: , Ⅵ영업외 비용: , 1. 지급이자: 3,300,000, Ⅶ.영업외 수익: , Ⅷ.경상이익: , Ⅸ.특별손실: , Ⅹ.특별이익: , ⅩⅠ.세전순이익: , ⅩⅡ.소득세등: , ⅩⅢ.당기순이익: '),\n",
       " Document(metadata={}, page_content='[Slide 16]\\n텍스트 요약:\\n첨부자료\\n\\n1. 이력서 및 주민등록등본\\n2. 사업예정지 부동산등기부등본\\n3. 도시계획확인원\\n4. 거주주택 부동산등기부등본\\n5. 견 적 서(시설)\\nThank you')]"
      ]
     },
     "execution_count": 30,
     "metadata": {},
     "output_type": "execute_result"
    }
   ],
   "source": [
    "docs"
   ]
  },
  {
   "cell_type": "markdown",
   "id": "f7c0cf8c",
   "metadata": {},
   "source": [
    "#### FAISS 벡터 DB 생성/저장/로드"
   ]
  },
  {
   "cell_type": "code",
   "execution_count": 31,
   "id": "2f099f09",
   "metadata": {},
   "outputs": [],
   "source": [
    "# FAISS DB 생성\n",
    "db = FAISS.from_documents(docs, embedding_model)"
   ]
  },
  {
   "cell_type": "code",
   "execution_count": 32,
   "id": "13e28475",
   "metadata": {},
   "outputs": [],
   "source": [
    "# FAISS DB 저장\n",
    "db.save_local(\"faiss_index/slide_vector_db\")"
   ]
  },
  {
   "cell_type": "code",
   "execution_count": 33,
   "id": "e25988b2",
   "metadata": {},
   "outputs": [],
   "source": [
    "# FAISS DB 로드 (생성 후 사용)\n",
    "# db = FAISS.load_local(\"faiss_index/slide_vector_db\", embeddings=embedding_model)"
   ]
  },
  {
   "cell_type": "markdown",
   "id": "57d5bf7c",
   "metadata": {},
   "source": [
    "### 2) 로컬 LLM 질의응답"
   ]
  },
  {
   "cell_type": "markdown",
   "id": "3bdbbc73",
   "metadata": {},
   "source": [
    "#### LCEL 방식"
   ]
  },
  {
   "cell_type": "code",
   "execution_count": 35,
   "id": "9c797edc",
   "metadata": {},
   "outputs": [
    {
     "name": "stdout",
     "output_type": "stream",
     "text": [
      "추정손익계산서의 감가상각비 금액은 **23,600,000**입니다. 이 금액은 [Slide 11]의 고정비 계획 섹션에서 제공된 표 내용 요약에 명시되어 있습니다.\n"
     ]
    }
   ],
   "source": [
    "from langchain.chains import create_retrieval_chain\n",
    "from langchain.chains.combine_documents import create_stuff_documents_chain\n",
    "from langchain_ollama import OllamaLLM\n",
    "from langchain.prompts import PromptTemplate\n",
    "\n",
    "# Ollama 로컬 실행 모델 연결\n",
    "llm = OllamaLLM(model=\"exaone3.5:7.8b\")\n",
    "\n",
    "# 프롬프트 정의\n",
    "prompt = PromptTemplate(\n",
    "    input_variables=[\"context\", \"input\"],\n",
    "    template=\"\"\"\n",
    "    당신은 친절한 AI 어시스턴트입니다. 다음의 문맥 정보를 참고하여 질문에 정확하게 답하세요.\n",
    "\n",
    "    문맥:\n",
    "    {context}\n",
    "\n",
    "    질문:\n",
    "    {input}\n",
    "\n",
    "    답변:\n",
    "    \"\"\"\n",
    ")\n",
    "\n",
    "# 문서 결합 방식 정의\n",
    "combine_docs_chain = create_stuff_documents_chain(llm, prompt)\n",
    "\n",
    "# 최종 QA 체인 생성\n",
    "qa_chain = create_retrieval_chain(\n",
    "    retriever=db.as_retriever(),  # 벡터스토어에서 as_retriever 사용\n",
    "    combine_docs_chain=combine_docs_chain\n",
    ")\n",
    "\n",
    "# 실행\n",
    "response = qa_chain.invoke({\"input\": \"추정손익계산서의 감가상각비 금액은 얼마인가요?\"})\n",
    "print(response[\"answer\"])"
   ]
  },
  {
   "cell_type": "code",
   "execution_count": 36,
   "id": "313f0ac0",
   "metadata": {},
   "outputs": [
    {
     "name": "stdout",
     "output_type": "stream",
     "text": [
      "제공된 정보만으로는 사업 타당성에 대한 완전한 검토를 수행하기는 어렵습니다. 하지만 주어진 슬라이드 내용을 바탕으로 몇 가지 주요 의견을 제시해 드릴 수 있습니다:\n",
      "\n",
      "1. **수익 예측 일관성**:\n",
      "   - [Slide 6]의 판매 계획 합계인 136,500,000원과 [Slide 11]의 고정비 합계인 136,400,000원 사이에 약간의 차이가 있습니다 (약 10,000,000원). 이러한 차이는 세부 항목 간의 조정이나 예측 오차를 의미할 수 있으므로, 이러한 일관성 문제를 확인하고 명확히 설명하는 것이 중요합니다.\n",
      "\n",
      "2. **고정비 분석**:\n",
      "   - 고정비 항목들이 상당히 다양하며, 특히 **감가상각비 (23,600,000원)**와 **임대료 (12,000,000원)**가 큰 비중을 차지하고 있습니다. 이러한 비용 구조가 지속 가능한지, 그리고 장기적으로 이러한 비용을 관리할 수 있는 전략이 있는지 검토가 필요합니다.\n",
      "\n",
      "3. **수익원 다양성**:\n",
      "   - 판매계획에서 다양한 수익원 (PC 이용료, OA 이용료, 음료수 판매, 컵라면 판매, 자판기 수입 등)이 제시되어 있어 수익 기반이 다양합니다. 이는 안정성을 높이는 요소로 볼 수 있지만, 각 항목의 시장 수요와 경쟁 환경을 면밀히 분석해야 합니다.\n",
      "\n",
      "4. **시장 및 경쟁 분석 부족**:\n",
      "   - 현재 제공된 정보에서는 시장 규모, 경쟁 상황, 타겟 고객층에 대한 구체적인 분석이 부족합니다. 이러한 요소들이 사업의 성공 가능성을 크게 좌우하므로, 추가적인 시장 조사와 경쟁 분석이 필요합니다.\n",
      "\n",
      "5. **초기 투자 및 자금 조달 계획**:\n",
      "   - 고정비와 초기 수익 예측만으로는 사업 초기 투자 및 자금 조달 계획이 명확하지 않습니다. 자금 흐름, 자금 조달 방안, 그리고 재무적 안정성에 대한 세부 계획이 필요합니다.\n",
      "\n",
      "### 결론\n",
      "사업의 타당성을 더욱 확실하게 검토하기 위해서는 다음과 같은 추가 정보가 필요합니다:\n",
      "- **시장 조사 결과** 및 **경쟁 분석**\n",
      "- **세부적인 재무 모델링** (예: 손익분기점 분석, 현금 흐름 예측)\n",
      "- **경영진 및 팀 역량**에 대한 평가\n",
      "- **리스크 관리 계획**\n",
      "\n",
      "이러한 요소들을 종합적으로 고려하여 보다 포괄적인 타당성 검토를 수행할 것을 권장드립니다.\n"
     ]
    }
   ],
   "source": [
    "# 실행\n",
    "response = qa_chain.invoke({\"input\": \"첨부된 사업계획서에 대한 사업 타당성 검토의견을 제시하세요.\"})\n",
    "print(response[\"answer\"])"
   ]
  },
  {
   "cell_type": "code",
   "execution_count": null,
   "id": "935bc14c",
   "metadata": {},
   "outputs": [],
   "source": []
  }
 ],
 "metadata": {
  "kernelspec": {
   "display_name": "venv",
   "language": "python",
   "name": "python3"
  },
  "language_info": {
   "codemirror_mode": {
    "name": "ipython",
    "version": 3
   },
   "file_extension": ".py",
   "mimetype": "text/x-python",
   "name": "python",
   "nbconvert_exporter": "python",
   "pygments_lexer": "ipython3",
   "version": "3.13.3"
  }
 },
 "nbformat": 4,
 "nbformat_minor": 5
}
