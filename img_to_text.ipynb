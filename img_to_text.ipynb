{
 "cells": [
  {
   "cell_type": "code",
   "execution_count": 2,
   "id": "b6e96b69",
   "metadata": {},
   "outputs": [],
   "source": [
    "from PIL import Image\n",
    "import pytesseract\n",
    "import os"
   ]
  },
  {
   "cell_type": "code",
   "execution_count": 3,
   "id": "d23b90f3",
   "metadata": {},
   "outputs": [],
   "source": [
    "def extract_text_from_images(image_dir='slide_imgs'):\n",
    "    image_texts = {}\n",
    "\n",
    "    for filename in os.listdir(image_dir):\n",
    "        if filename.endswith(\".png\") or filename.endswith(\".jpg\"):\n",
    "            img_path = os.path.join(image_dir, filename)\n",
    "            img = Image.open(img_path)\n",
    "            text = pytesseract.image_to_string(img, lang='eng+kor')\n",
    "            image_texts[filename] = text.strip()\n",
    "\n",
    "    return image_texts"
   ]
  },
  {
   "cell_type": "code",
   "execution_count": 5,
   "id": "c095e37d",
   "metadata": {},
   "outputs": [],
   "source": [
    "image_texts = extract_text_from_images"
   ]
  },
  {
   "cell_type": "code",
   "execution_count": 6,
   "id": "7f0f2a02",
   "metadata": {},
   "outputs": [
    {
     "data": {
      "text/plain": [
       "<function __main__.extract_text_from_images(image_dir='slide_imgs')>"
      ]
     },
     "execution_count": 6,
     "metadata": {},
     "output_type": "execute_result"
    }
   ],
   "source": [
    "image_texts"
   ]
  },
  {
   "cell_type": "code",
   "execution_count": null,
   "id": "ed607055",
   "metadata": {},
   "outputs": [],
   "source": []
  }
 ],
 "metadata": {
  "kernelspec": {
   "display_name": "venv",
   "language": "python",
   "name": "python3"
  },
  "language_info": {
   "codemirror_mode": {
    "name": "ipython",
    "version": 3
   },
   "file_extension": ".py",
   "mimetype": "text/x-python",
   "name": "python",
   "nbconvert_exporter": "python",
   "pygments_lexer": "ipython3",
   "version": "3.13.3"
  }
 },
 "nbformat": 4,
 "nbformat_minor": 5
}
