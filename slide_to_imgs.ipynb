{
 "cells": [
  {
   "cell_type": "code",
   "execution_count": 16,
   "id": "75362666",
   "metadata": {},
   "outputs": [],
   "source": [
    "# aspose blog\n",
    "# https://blog.aspose.com/ko/slides/convert-ppt-to-jpg-in-python/"
   ]
  },
  {
   "cell_type": "code",
   "execution_count": 17,
   "id": "b82cf9de",
   "metadata": {},
   "outputs": [],
   "source": [
    "import aspose.slides as slides\n",
    "import aspose.pydrawing as drawing"
   ]
  },
  {
   "cell_type": "code",
   "execution_count": 26,
   "id": "65ca7bcc",
   "metadata": {},
   "outputs": [],
   "source": [
    "def ppt_to_imgs(ppt_path, output_dir='slide_imgs'):\n",
    "    # Load Presentation\n",
    "    pres = slides.Presentation(ppt_path)\n",
    "    os.makedirs(output_dir, exist_ok=True)\n",
    "\n",
    "    desiredX = 1200\n",
    "    desiredY = 800\n",
    "    scaleX = (float)(1.0 / pres.slide_size.size.width) * desiredX\n",
    "    scaleY = (float)(1.0 / pres.slide_size.size.height) * desiredY\n",
    "\n",
    "    # Loop through slides\n",
    "    for index in range(pres.slides.length):\n",
    "        # Get reference of slide\n",
    "        slide = pres.slides[index]\n",
    "\n",
    "        # Save as JPG\n",
    "        slide.get_thumbnail(scaleX, scaleY).save(output_dir+\"/slide_{i}.jpg\".format(i = index), drawing.imaging.ImageFormat.jpeg)"
   ]
  },
  {
   "cell_type": "code",
   "execution_count": 27,
   "id": "d3341f1c",
   "metadata": {},
   "outputs": [],
   "source": [
    "ppt_path = 'data/sample_data.pptx'\n",
    "ppt_to_imgs(ppt_path)"
   ]
  },
  {
   "cell_type": "code",
   "execution_count": null,
   "id": "eb560a66",
   "metadata": {},
   "outputs": [],
   "source": []
  }
 ],
 "metadata": {
  "kernelspec": {
   "display_name": "venv",
   "language": "python",
   "name": "python3"
  },
  "language_info": {
   "codemirror_mode": {
    "name": "ipython",
    "version": 3
   },
   "file_extension": ".py",
   "mimetype": "text/x-python",
   "name": "python",
   "nbconvert_exporter": "python",
   "pygments_lexer": "ipython3",
   "version": "3.13.3"
  }
 },
 "nbformat": 4,
 "nbformat_minor": 5
}
